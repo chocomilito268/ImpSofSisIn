{
 "cells": [
  {
   "cell_type": "code",
   "execution_count": 13,
   "id": "593a3db5-cec1-4ee0-bc8a-4605b54acda9",
   "metadata": {},
   "outputs": [
    {
     "name": "stdin",
     "output_type": "stream",
     "text": [
      "ingresa el porcentaje del alumno:  101\n"
     ]
    },
    {
     "name": "stdout",
     "output_type": "stream",
     "text": [
      "El grado del alumno es: (grado)\n"
     ]
    }
   ],
   "source": [
    "porcentaje =float(input(\"ingresa el porcentaje del alumno: \"))\n",
    "if porcentaje < 90:\n",
    "    grado = 'A'\n",
    "elif 80 < porcentaje <=90:\n",
    "        grado = 'B'\n",
    "elif 60 <= porcentaje <= 80:\n",
    "        grado = 'C'\n",
    "else:\n",
    "    grado = 'D'\n",
    "\n",
    "print(f\"El grado del alumno es: (grado)\")"
   ]
  },
  {
   "cell_type": "code",
   "execution_count": 17,
   "id": "2f561b79-8796-4438-a0ad-85c358365c68",
   "metadata": {},
   "outputs": [
    {
     "name": "stdin",
     "output_type": "stream",
     "text": [
      "ingresa el precio de la bicicleta:  50000\n"
     ]
    },
    {
     "name": "stdout",
     "output_type": "stream",
     "text": [
      " El impuesto que debes pagar es: (impuesto:.2f)\n"
     ]
    }
   ],
   "source": [
    "precio = float(input(\"ingresa el precio de la bicicleta: \"))\n",
    "if precio > 100000:\n",
    "    impuesto = precio * 0.15\n",
    "elif 50000 < precio <= 100000:\n",
    "    impuesto = precio * 0.10\n",
    "else:\n",
    "    impuesto = precio * 0.05\n",
    "print(f\" El impuesto que debes pagar es: (impuesto:.2f)\")"
   ]
  },
  {
   "cell_type": "code",
   "execution_count": null,
   "id": "ddd544c7-5b49-42fb-872c-13d4f993f8bf",
   "metadata": {},
   "outputs": [],
   "source": []
  },
  {
   "cell_type": "code",
   "execution_count": null,
   "id": "6cd42c6b-43c3-492b-8309-c26f6e43fc1f",
   "metadata": {},
   "outputs": [],
   "source": []
  },
  {
   "cell_type": "code",
   "execution_count": null,
   "id": "22e337a6-63dc-4e9c-9ca5-05c4e704e75d",
   "metadata": {},
   "outputs": [],
   "source": []
  }
 ],
 "metadata": {
  "kernelspec": {
   "display_name": "Python [conda env:base] *",
   "language": "python",
   "name": "conda-base-py"
  },
  "language_info": {
   "codemirror_mode": {
    "name": "ipython",
    "version": 3
   },
   "file_extension": ".py",
   "mimetype": "text/x-python",
   "name": "python",
   "nbconvert_exporter": "python",
   "pygments_lexer": "ipython3",
   "version": "3.12.7"
  }
 },
 "nbformat": 4,
 "nbformat_minor": 5
}
